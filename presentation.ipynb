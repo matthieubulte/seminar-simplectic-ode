{
 "cells": [
  {
   "cell_type": "code",
   "execution_count": 1,
   "metadata": {},
   "outputs": [
    {
     "data": {
      "text/html": [
       "<div id=\"interact-js-shim\">\n",
       "    <script charset=\"utf-8\">\n",
       "(function (IPython, $, _, MathJax) {\n",
       "    $.event.special.destroyed = {\n",
       "\tremove: function(o) {\n",
       "\t    if (o.handler) {\n",
       "\t\to.handler.apply(this, arguments)\n",
       "\t    }\n",
       "\t}\n",
       "    }\n",
       "\n",
       "    var OutputArea = IPython.version >= \"4.0.0\" ? require(\"notebook/js/outputarea\").OutputArea : IPython.OutputArea;\n",
       "\n",
       "    var redrawValue = function (container, type, val) {\n",
       "\tvar selector = $(\"<div/>\");\n",
       "\tvar oa = new OutputArea(_.extend(selector, {\n",
       "\t    selector: selector,\n",
       "\t    prompt_area: true,\n",
       "\t    events: IPython.events,\n",
       "\t    keyboard_manager: IPython.keyboard_manager\n",
       "\t})); // Hack to work with IPython 2.1.0\n",
       "\n",
       "\tswitch (type) {\n",
       "\tcase \"image/png\":\n",
       "            var _src = 'data:' + type + ';base64,' + val;\n",
       "\t    $(container).find(\"img\").attr('src', _src);\n",
       "\t    break;\n",
       "\tcase \"text/latex\":\n",
       "\t\tif (MathJax){\n",
       "\t\t\tvar math = MathJax.Hub.getAllJax(container)[0];\n",
       "\t\t\tMathJax.Hub.Queue([\"Text\", math, val.replace(/^\\${1,2}|\\${1,2}$/g, '')]);\n",
       "\t\t\tbreak;\n",
       "\t\t}\n",
       "\tdefault:\n",
       "\t    var toinsert = OutputArea.append_map[type].apply(\n",
       "\t\toa, [val, {}, selector]\n",
       "\t    );\n",
       "\t    $(container).empty().append(toinsert.contents());\n",
       "\t    selector.remove();\n",
       "\t}\n",
       "    }\n",
       "\n",
       "\n",
       "    $(document).ready(function() {\n",
       "\tfunction initComm(evt, data) {\n",
       "\t    var comm_manager = data.kernel.comm_manager;\n",
       "        //_.extend(comm_manager.targets, require(\"widgets/js/widget\"))\n",
       "\t    comm_manager.register_target(\"Signal\", function (comm) {\n",
       "            comm.on_msg(function (msg) {\n",
       "                var val = msg.content.data.value;\n",
       "                $(\".signal-\" + comm.comm_id).each(function() {\n",
       "                var type = $(this).data(\"type\");\n",
       "                if (typeof(val[type]) !== \"undefined\" && val[type] !== null) {\n",
       "                    redrawValue(this, type, val[type], type);\n",
       "                }\n",
       "                });\n",
       "                delete val;\n",
       "                delete msg.content.data.value;\n",
       "            });\n",
       "\t    });\n",
       "\n",
       "\t    // coordingate with Comm and redraw Signals\n",
       "\t    // XXX: Test using Reactive here to improve performance\n",
       "\t    $([IPython.events]).on(\n",
       "\t\t'output_appended.OutputArea', function (event, type, value, md, toinsert) {\n",
       "\t\t    if (md && md.reactive) {\n",
       "                // console.log(md.comm_id);\n",
       "                toinsert.addClass(\"signal-\" + md.comm_id);\n",
       "                toinsert.data(\"type\", type);\n",
       "                // Signal back indicating the mimetype required\n",
       "                var comm_manager = IPython.notebook.kernel.comm_manager;\n",
       "                var comm = comm_manager.comms[md.comm_id];\n",
       "                comm.then(function (c) {\n",
       "                    c.send({action: \"subscribe_mime\",\n",
       "                       mime: type});\n",
       "                    toinsert.bind(\"destroyed\", function() {\n",
       "                        c.send({action: \"unsubscribe_mime\",\n",
       "                               mime: type});\n",
       "                    });\n",
       "                })\n",
       "\t\t    }\n",
       "\t    });\n",
       "\t}\n",
       "\n",
       "\ttry {\n",
       "\t    // try to initialize right away. otherwise, wait on the status_started event.\n",
       "\t    initComm(undefined, IPython.notebook);\n",
       "\t} catch (e) {\n",
       "\t    $([IPython.events]).on('kernel_created.Kernel kernel_created.Session', initComm);\n",
       "\t}\n",
       "    });\n",
       "})(IPython, jQuery, _, MathJax);\n",
       "</script>\n",
       "    <script>\n",
       "        window.interactLoadedFlag = true\n",
       "       $(\"#interact-js-shim\").bind(\"destroyed\", function () {\n",
       "           if (window.interactLoadedFlag) {\n",
       "               console.warn(\"JavaScript required by Interact will be removed if you remove this cell or run using Interact more than once.\")\n",
       "           }\n",
       "       })\n",
       "       $([IPython.events]).on(\"kernel_starting.Kernel kernel_restarting.Kernel\", function () { window.interactLoadedFlag = false })\n",
       "   </script>\n",
       "</div>"
      ]
     },
     "metadata": {},
     "output_type": "display_data"
    }
   ],
   "source": [
    "using PyPlot\n",
    "using Interact\n",
    "using GeometricIntegrators\n",
    "include(\"methods.jl\");"
   ]
  },
  {
   "cell_type": "code",
   "execution_count": 2,
   "metadata": {
    "collapsed": true
   },
   "outputs": [],
   "source": [
    "function pendulum_rhs(t, x, f)\n",
    "    f[1] = x[2]\n",
    "    f[2] = -sin(x[1])\n",
    "end\n",
    "\n",
    "function hamiltonian(x)\n",
    "    x[2]^2/2 + cos(x[1])\n",
    "end\n",
    "\n",
    "function rk_solve(n; start=[pi/4, 0.0])\n",
    "    ode = ODE(pendulum_rhs, start)\n",
    "    int = Integrator(ode, getTableauExplicitEuler(), 0.1)\n",
    "    res = integrate(int, n)\n",
    "\n",
    "    angles = collect(res.q[1,:])\n",
    "    d_angles = collect(res.q[2, :])\n",
    "    \n",
    "    (angles, d_angles)\n",
    "end;"
   ]
  },
  {
   "cell_type": "code",
   "execution_count": 13,
   "metadata": {},
   "outputs": [
    {
     "data": {
      "text/html": [],
      "text/plain": [
       "Interact.Slider{Int64}(41: \"input-11\" = 1 Int64 , \"\", 1, 1:5:396, \"horizontal\", true, \"d\", true)"
      ]
     },
     "metadata": {},
     "output_type": "display_data"
    },
    {
     "data": {
      "image/png": "[encoded data removed]",
      "text/plain": [
       "PyPlot.Figure(PyObject <matplotlib.figure.Figure object at 0x7f0ab4337b10>)"
      ]
     },
     "execution_count": 13,
     "metadata": {
      "comm_id": "1e275417-67f0-4be3-ad95-f8c164151237",
      "reactive": true
     },
     "output_type": "execute_result"
    }
   ],
   "source": [
    "plot_result(rk_solve, 400)"
   ]
  },
  {
   "cell_type": "code",
   "execution_count": 10,
   "metadata": {},
   "outputs": [
    {
     "data": {
      "text/html": [],
      "text/plain": [
       "Interact.Options{:ToggleButtons,Any}(29: \"input-8\" = 100 Any , \"N\", 100, \"100\", 0, Interact.OptionDict(DataStructures.OrderedDict{Any,Any}(\"100\"=>100,\"1000\"=>1000,\"10000\"=>10000,\"100000\"=>100000), Dict{Any,Any}(Pair{Any,Any}(100, \"100\"),Pair{Any,Any}(10000, \"10000\"),Pair{Any,Any}(100000, \"100000\"),Pair{Any,Any}(1000, \"1000\"))), Any[], Any[], true, \"horizontal\")"
      ]
     },
     "metadata": {},
     "output_type": "display_data"
    },
    {
     "data": {
      "image/png": "[encoded data removed]",
      "text/plain": [
       "PyPlot.Figure(PyObject <matplotlib.figure.Figure object at 0x7f0ad8315690>)"
      ]
     },
     "execution_count": 10,
     "metadata": {
      "comm_id": "8c66d4cb-53ed-4404-a77f-a6ea640c86bb",
      "reactive": true
     },
     "output_type": "execute_result"
    }
   ],
   "source": [
    "plot_hamiltonian(rk_solve)"
   ]
  },
  {
   "cell_type": "code",
   "execution_count": 6,
   "metadata": {},
   "outputs": [
    {
     "data": {
      "text/html": [],
      "text/plain": [
       "Interact.Slider{Int64}(13: \"input-4\" = 1 Int64 , \"\", 1, 1:5:396, \"horizontal\", true, \"d\", true)"
      ]
     },
     "metadata": {},
     "output_type": "display_data"
    },
    {
     "data": {
      "image/png": "[encoded data removed]",
      "text/plain": [
       "PyPlot.Figure(PyObject <matplotlib.figure.Figure object at 0x7f0ab4753410>)"
      ]
     },
     "execution_count": 6,
     "metadata": {
      "comm_id": "6c645331-6131-4b57-a0a6-689f73eb92df",
      "reactive": true
     },
     "output_type": "execute_result"
    }
   ],
   "source": [
    "plot_phase_space(rk_solve, 400)"
   ]
  },
  {
   "cell_type": "code",
   "execution_count": null,
   "metadata": {
    "collapsed": true
   },
   "outputs": [],
   "source": [
    "function pendulum_v(t, q, p, v)\n",
    "    v[1] = p[1]\n",
    "end\n",
    "\n",
    "function pendulum_f(t, q, p, f)\n",
    "    f[1] = -sin(q[1])\n",
    "end\n",
    "\n",
    "function simpl_solve(n; start=[pi/4, 0.0])\n",
    "    ode = PODE(pendulum_v, pendulum_f, [start[1]], [start[2]])\n",
    "    int = Integrator(ode, getTableauSymplecticEulerA(), 0.1)\n",
    "    res = integrate(int, n)\n",
    "    \n",
    "    angles = collect(res.q)\n",
    "    d_angles = collect(res.p)\n",
    "    \n",
    "    (angles, d_angles)\n",
    "end;"
   ]
  },
  {
   "cell_type": "code",
   "execution_count": null,
   "metadata": {},
   "outputs": [],
   "source": [
    "plot_result(simpl_solve, 400)"
   ]
  },
  {
   "cell_type": "code",
   "execution_count": null,
   "metadata": {},
   "outputs": [],
   "source": [
    "plot_hamiltonian(simpl_solve)"
   ]
  },
  {
   "cell_type": "code",
   "execution_count": null,
   "metadata": {
    "scrolled": false
   },
   "outputs": [],
   "source": [
    "plot_phase_space(simpl_solve, 400)"
   ]
  }
 ],
 "metadata": {
  "kernelspec": {
   "display_name": "Julia 0.6.0",
   "language": "julia",
   "name": "julia-0.6"
  },
  "language_info": {
   "file_extension": ".jl",
   "mimetype": "application/julia",
   "name": "julia",
   "version": "0.6.0"
  },
  "widgets": {
   "state": {
    "4b296d26-f5ae-491f-a303-b7d59e107232": {
     "views": [
      {
       "cell_index": 8
      }
     ]
    },
    "54bea2de-1287-4dd5-bbf7-314557712d06": {
     "views": [
      {
       "cell_index": 7
      }
     ]
    },
    "72030851-ce34-44e4-82b6-44e7b9c20338": {
     "views": [
      {
       "cell_index": 4
      }
     ]
    },
    "a70a7df9-4c40-43eb-82d1-da856f42cb2b": {
     "views": [
      {
       "cell_index": 6
      }
     ]
    },
    "d40f8dee-71ef-47a6-b972-69b50fcce469": {
     "views": [
      {
       "cell_index": 2
      }
     ]
    },
    "e8db3914-71cc-4a48-af7e-98bbeb436a47": {
     "views": [
      {
       "cell_index": 3
      }
     ]
    }
   },
   "version": "1.2.0"
  }
 },
 "nbformat": 4,
 "nbformat_minor": 2
}
